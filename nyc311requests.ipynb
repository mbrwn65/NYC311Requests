{
 "cells": [
  {
   "cell_type": "code",
   "execution_count": 1,
   "metadata": {},
   "outputs": [],
   "source": [
    "import pandas as pd\n",
    "import numpy as np\n",
    "import seaborn as sns\n",
    "import matplotlib.pyplot as plt\n",
    "from datetime import datetime"
   ]
  },
  {
   "cell_type": "code",
   "execution_count": 2,
   "metadata": {},
   "outputs": [
    {
     "name": "stderr",
     "output_type": "stream",
     "text": [
      "/var/folders/08/jl8s46nj1937wqfyst1xgq080000gn/T/ipykernel_20570/2648032890.py:1: DtypeWarning: Columns (8,31,32) have mixed types. Specify dtype option on import or set low_memory=False.\n",
      "  request_df = pd.read_csv(\"../2023requests.csv\")\n"
     ]
    }
   ],
   "source": [
    "request_df = pd.read_csv(\"../2023requests.csv\")"
   ]
  },
  {
   "cell_type": "code",
   "execution_count": 3,
   "metadata": {},
   "outputs": [],
   "source": [
    "requestdf = request_df.copy()\n",
    "pd.set_option(\"display.max_rows\", 200)"
   ]
  },
  {
   "cell_type": "markdown",
   "metadata": {},
   "source": [
    "Removes un-needed columns, with explanation why each was removed. Some may be useful for other analysis objectives."
   ]
  },
  {
   "cell_type": "code",
   "execution_count": 4,
   "metadata": {},
   "outputs": [],
   "source": [
    "#List of un-needed columns to drop to improve speed on current project\n",
    "dropcolumns = [\"Location Type\", #specifies exact type of location, not used since only using lat-long\n",
    "               \"Incident Zip\", \"Incident Address\", \"Street Name\", \"Cross Street 1\", \"Cross Street 2\", \"Intersection Street 1\", \"Intersection Street 2\", \"Address Type\", \"City\", #lat-long used instead of all up to Facility Type\n",
    "               \"Landmark\", #closest landmark, not needed\n",
    "               \"Facility Type\", #only DSNY Garage non-na, not needed\n",
    "               \"Due Date\", #may be helpful for other analysis but not here\n",
    "               \"Resolution Description\", #USEFUL FOR TEXT ANALYSIS IF USING\n",
    "               \"Resolution Action Updated Date\", #not super relevant, also confusing without info into operations\n",
    "               \"BBL\", #mostly missing, also replaced by lat-long\n",
    "               \"X Coordinate (State Plane)\", \"Y Coordinate (State Plane)\", #not sure of use, also likely replaced by lat-long\n",
    "               \"Open Data Channel Type\", #MAY BE NEAT FOR VIZUALING, medium of request\n",
    "               \"Park Facility Name\", \"Park Borough\", #not needed due to lat-long\n",
    "               \"Vehicle Type\", #may be useful if going in depth on vehicle requests\n",
    "               \"Taxi Company Borough\", \"Taxi Pick Up Location\", #not needed\n",
    "               \"Bridge Highway Name\", \"Road Ramp\", \"Bridge Highway Segment\", \"Bridge Highway Direction\", #not needed unless super specific wanted\n",
    "               \"Location\", #lat-long combined,\n",
    "               \"Borough Boundaries\", #just numerical of borough 1-5,\n",
    "               \"Police Precinct\", # not needed for this project unless expanding to precincts map\n",
    "               \"Police Precincts\", #duplicate info of police precinct\n",
    "               \"Community Districts\", #duplicate info of community board\n",
    "               \"Descriptor\", #not needed for this project unless using natural language data\n",
    "               \"Zip Codes\" #dont line up with nyc zip codes\n",
    "               ]\n",
    "\n",
    "requestdf = requestdf.drop(columns=dropcolumns)"
   ]
  },
  {
   "cell_type": "markdown",
   "metadata": {},
   "source": [
    "Removing requests with no location data, mostly information requests which could be used outside of creating the map if necessary."
   ]
  },
  {
   "cell_type": "code",
   "execution_count": 5,
   "metadata": {},
   "outputs": [
    {
     "name": "stdout",
     "output_type": "stream",
     "text": [
      "49110 49110\n",
      "3225193\n",
      "3176083\n"
     ]
    }
   ],
   "source": [
    "print(requestdf[\"Longitude\"].isna().sum(),requestdf[\"Latitude\"].isna().sum())\n",
    "print(requestdf.shape[0])\n",
    "requestdf = requestdf.drop(index=requestdf.loc[requestdf[\"Longitude\"].isna()].index)\n",
    "print(requestdf.shape[0])"
   ]
  },
  {
   "cell_type": "markdown",
   "metadata": {},
   "source": [
    "Removing requests with unspecified community boards due to difficulty joining with community board dataset and null data. "
   ]
  },
  {
   "cell_type": "code",
   "execution_count": 6,
   "metadata": {},
   "outputs": [
    {
     "name": "stdout",
     "output_type": "stream",
     "text": [
      "out of 22555 requests with unspecified community boards,\n",
      "7299 of them were unclosed. These unspecified requests will be dropped due to NA data and to help with community board clarity\n"
     ]
    }
   ],
   "source": [
    "unspecifiedboard = requestdf.loc[(requestdf[\"Community Board\"].str.startswith(\"Unspecified\")) | ((requestdf[\"Community Board\"] == \"0 Unspecified\"))]\n",
    "print(\"out of\", unspecifiedboard.shape[0], \"requests with unspecified community boards,\")\n",
    "print(unspecifiedboard[\"Closed Date\"].isna().sum(), \"of them were unclosed. These unspecified requests will be dropped due to NA data and to help with community board clarity\")\n",
    "requestdf = requestdf.drop(index=unspecifiedboard.index)"
   ]
  },
  {
   "cell_type": "code",
   "execution_count": 7,
   "metadata": {},
   "outputs": [
    {
     "data": {
      "text/plain": [
       "Unique Key                     0\n",
       "Created Date                   0\n",
       "Closed Date               119910\n",
       "Agency                         0\n",
       "Agency Name                    0\n",
       "Complaint Type                 0\n",
       "Status                         0\n",
       "Community Board                0\n",
       "Borough                        0\n",
       "Latitude                       0\n",
       "Longitude                      0\n",
       "City Council Districts       666\n",
       "dtype: int64"
      ]
     },
     "execution_count": 7,
     "metadata": {},
     "output_type": "execute_result"
    }
   ],
   "source": [
    "requestdf.isna().sum()"
   ]
  },
  {
   "cell_type": "code",
   "execution_count": 8,
   "metadata": {},
   "outputs": [],
   "source": [
    "#replaces duplicate complaints\n",
    "requestdf[\"Complaint Type\"] = requestdf[\"Complaint Type\"].replace([\"PLUMBING\", \"HEAT/HOT WATER\", \"OUTSIDE BUILDING\", \"DOOR/WINDOW\", \"ELECTRIC\", \"GENERAL\", \"PAINT/PLASTER\", \"Peeling Paint\", \"UNSANITARY CONDITION\", \"FLOORING/STAIRS\", \"WATER LEAK\", \"SAFETY\", \"APPLIANCE\", \"ELEVATOR\"],\n",
    "                                                                  [\"Plumbing\", \"Heat/Hot Water\", \"Outside Building\", \"Door/Window\", \"Electric\", \"General\", \"Paint/Plaster\", \"Paint/Plaster\", \"Unsanitary Condition\", \"Flooring/Stairs\", \"Water Leak\", \"Safety\", \"Appliance\", \"Elevator\"])\n",
    "requestdf[\"Complaint Type\"] = requestdf[\"Complaint Type\"].replace([\"Mold\", \"Special Projects Inspection Team (SPIT)\"],\n",
    "                                                                  [\"Unsanitary Condition\", \"Building Code Violation\"])"
   ]
  },
  {
   "cell_type": "markdown",
   "metadata": {},
   "source": [
    "makes a copy of all requests before narrowing down data to only the top 50 complaints"
   ]
  },
  {
   "cell_type": "code",
   "execution_count": 9,
   "metadata": {},
   "outputs": [],
   "source": [
    "allrequesttypes = requestdf.copy()\n",
    "requestdf = requestdf.loc[requestdf[\"Complaint Type\"].isin(requestdf[\"Complaint Type\"].value_counts().head(50).index)].copy()"
   ]
  },
  {
   "cell_type": "markdown",
   "metadata": {},
   "source": [
    "Assigns categories to complaint types, to help users navigate the map filters easier."
   ]
  },
  {
   "cell_type": "code",
   "execution_count": 10,
   "metadata": {},
   "outputs": [
    {
     "data": {
      "text/plain": [
       "array(['Noise', 'Transportation', 'Utilities',\n",
       "       'Sidewalks, Streets & Highways', 'Environment',\n",
       "       'Housing & Buildings', 'Public Safety', 'Businesses & Consumers',\n",
       "       'Misc', 'Trash & Recycling', 'Health'], dtype=object)"
      ]
     },
     "execution_count": 10,
     "metadata": {},
     "output_type": "execute_result"
    }
   ],
   "source": [
    "requestdf[\"Complaint Type\"].unique()\n",
    "#assigning each of the top 50 complaints to a category, Adapted from categories used at https://portal.311.nyc.gov/report-problems/\n",
    "categories = {'Noise - Street/Sidewalk':'Noise', 'Noise - Helicopter':'Noise',\n",
    "            'Blocked Driveway':'Transportation', 'Illegal Parking':'Transportation', 'Noise - Residential':'Noise',\n",
    "            'Heat/Hot Water':'Utilities', 'Noise - Commercial':'Noise', 'Sidewalk Condition':'Sidewalks, Streets & Highways',\n",
    "            'Abandoned Vehicle':'Transportation', 'New Tree Request':'Environment', 'Door/Window':'Housing & Buildings', 'Electric':'Utilities',\n",
    "            'Water System':'Utilities', 'Sewer':'Utilities', 'Plumbing':'Utilities', 'Non-Emergency Police Matter':'Public Safety',\n",
    "            'Noise - Vehicle':'Noise', 'Noise':'Noise', 'Consumer Complaint':'Businesses & Consumers',\n",
    "            'Traffic Signal Condition':'Sidewalks, Streets & Highways', 'Building/Use':'Housing & Buildings', 'General':'Misc',\n",
    "            'Dirty Condition':'Trash & Recycling', 'Rodent':'Health', 'Obstruction':'Sidewalks, Streets & Highways', 'Illegal Dumping':'Public Safety',\n",
    "            'Paint/Plaster':'Housing & Buildings', 'Unsanitary Condition':'Health', 'Flooring/Stairs':'Housing & Buildings',\n",
    "            'General Construction/Plumbing':'Housing & Buildings', 'Street Light Condition':'Sidewalks, Streets & Highways',\n",
    "            'Food Establishment':'Businesses & Consumers', 'Water Leak':'Utilities', 'Damaged Tree':'Environment', 'Safety':'Health',\n",
    "            'Missed Collection':'Trash & Recycling', 'Street Condition':'Sidewalks, Streets & Highways', 'Vendor Enforcement':'Businesses & Consumers',\n",
    "            'Graffiti':'Misc', 'Elevator':'Housing & Buildings', 'Residential Disposal Complaint':'Trash & Recycling',\n",
    "            'Drug Activity':'Public Safety', 'Appliance':'Housing & Buildings', 'Air Quality':'Environment', 'Encampment':'Misc',\n",
    "            'For Hire Vehicle Complaint':'Misc', 'Overgrown Tree/Branches':'Environment',\n",
    "            'Maintenance or Facility':'Housing & Buildings', 'Homeless Person Assistance':'Misc',\n",
    "            'Derelict Vehicles':'Transportation'}\n",
    "requestdf[\"Complaint Category\"] = requestdf[\"Complaint Type\"].map(categories)\n",
    "#all unique categories\n",
    "requestdf[\"Complaint Category\"].unique()"
   ]
  },
  {
   "cell_type": "code",
   "execution_count": 11,
   "metadata": {},
   "outputs": [
    {
     "data": {
      "text/html": [
       "<div>\n",
       "<style scoped>\n",
       "    .dataframe tbody tr th:only-of-type {\n",
       "        vertical-align: middle;\n",
       "    }\n",
       "\n",
       "    .dataframe tbody tr th {\n",
       "        vertical-align: top;\n",
       "    }\n",
       "\n",
       "    .dataframe thead th {\n",
       "        text-align: right;\n",
       "    }\n",
       "</style>\n",
       "<table border=\"1\" class=\"dataframe\">\n",
       "  <thead>\n",
       "    <tr style=\"text-align: right;\">\n",
       "      <th></th>\n",
       "      <th>Unique Key</th>\n",
       "      <th>Created Date</th>\n",
       "      <th>Closed Date</th>\n",
       "      <th>Agency</th>\n",
       "      <th>Agency Name</th>\n",
       "      <th>Complaint Type</th>\n",
       "      <th>Status</th>\n",
       "      <th>Community Board</th>\n",
       "      <th>Borough</th>\n",
       "      <th>Latitude</th>\n",
       "      <th>Longitude</th>\n",
       "      <th>City Council Districts</th>\n",
       "      <th>Complaint Category</th>\n",
       "    </tr>\n",
       "  </thead>\n",
       "  <tbody>\n",
       "    <tr>\n",
       "      <th>4</th>\n",
       "      <td>59889383</td>\n",
       "      <td>12/31/2023 11:59:42 PM</td>\n",
       "      <td>01/01/2024 01:51:01 AM</td>\n",
       "      <td>NYPD</td>\n",
       "      <td>New York City Police Department</td>\n",
       "      <td>Noise - Street/Sidewalk</td>\n",
       "      <td>Closed</td>\n",
       "      <td>06 QUEENS</td>\n",
       "      <td>QUEENS</td>\n",
       "      <td>40.734695</td>\n",
       "      <td>-73.850521</td>\n",
       "      <td>28.0</td>\n",
       "      <td>Noise</td>\n",
       "    </tr>\n",
       "    <tr>\n",
       "      <th>5</th>\n",
       "      <td>59887573</td>\n",
       "      <td>12/31/2023 11:59:39 PM</td>\n",
       "      <td>01/19/2024 02:37:37 PM</td>\n",
       "      <td>EDC</td>\n",
       "      <td>Economic Development Corporation</td>\n",
       "      <td>Noise - Helicopter</td>\n",
       "      <td>Closed</td>\n",
       "      <td>07 MANHATTAN</td>\n",
       "      <td>MANHATTAN</td>\n",
       "      <td>40.777201</td>\n",
       "      <td>-73.976159</td>\n",
       "      <td>19.0</td>\n",
       "      <td>Noise</td>\n",
       "    </tr>\n",
       "    <tr>\n",
       "      <th>6</th>\n",
       "      <td>59892892</td>\n",
       "      <td>12/31/2023 11:59:29 PM</td>\n",
       "      <td>01/01/2024 04:06:24 AM</td>\n",
       "      <td>NYPD</td>\n",
       "      <td>New York City Police Department</td>\n",
       "      <td>Blocked Driveway</td>\n",
       "      <td>Closed</td>\n",
       "      <td>07 QUEENS</td>\n",
       "      <td>QUEENS</td>\n",
       "      <td>40.759286</td>\n",
       "      <td>-73.822614</td>\n",
       "      <td>3.0</td>\n",
       "      <td>Transportation</td>\n",
       "    </tr>\n",
       "    <tr>\n",
       "      <th>7</th>\n",
       "      <td>59893860</td>\n",
       "      <td>12/31/2023 11:59:29 PM</td>\n",
       "      <td>01/01/2024 01:51:32 AM</td>\n",
       "      <td>NYPD</td>\n",
       "      <td>New York City Police Department</td>\n",
       "      <td>Noise - Street/Sidewalk</td>\n",
       "      <td>Closed</td>\n",
       "      <td>06 QUEENS</td>\n",
       "      <td>QUEENS</td>\n",
       "      <td>40.729379</td>\n",
       "      <td>-73.855433</td>\n",
       "      <td>28.0</td>\n",
       "      <td>Noise</td>\n",
       "    </tr>\n",
       "    <tr>\n",
       "      <th>8</th>\n",
       "      <td>59887231</td>\n",
       "      <td>12/31/2023 11:59:23 PM</td>\n",
       "      <td>01/01/2024 12:13:30 AM</td>\n",
       "      <td>NYPD</td>\n",
       "      <td>New York City Police Department</td>\n",
       "      <td>Noise - Street/Sidewalk</td>\n",
       "      <td>Closed</td>\n",
       "      <td>12 BROOKLYN</td>\n",
       "      <td>BROOKLYN</td>\n",
       "      <td>40.644725</td>\n",
       "      <td>-73.997622</td>\n",
       "      <td>7.0</td>\n",
       "      <td>Noise</td>\n",
       "    </tr>\n",
       "  </tbody>\n",
       "</table>\n",
       "</div>"
      ],
      "text/plain": [
       "   Unique Key            Created Date             Closed Date Agency  \\\n",
       "4    59889383  12/31/2023 11:59:42 PM  01/01/2024 01:51:01 AM   NYPD   \n",
       "5    59887573  12/31/2023 11:59:39 PM  01/19/2024 02:37:37 PM    EDC   \n",
       "6    59892892  12/31/2023 11:59:29 PM  01/01/2024 04:06:24 AM   NYPD   \n",
       "7    59893860  12/31/2023 11:59:29 PM  01/01/2024 01:51:32 AM   NYPD   \n",
       "8    59887231  12/31/2023 11:59:23 PM  01/01/2024 12:13:30 AM   NYPD   \n",
       "\n",
       "                        Agency Name           Complaint Type  Status  \\\n",
       "4   New York City Police Department  Noise - Street/Sidewalk  Closed   \n",
       "5  Economic Development Corporation       Noise - Helicopter  Closed   \n",
       "6   New York City Police Department         Blocked Driveway  Closed   \n",
       "7   New York City Police Department  Noise - Street/Sidewalk  Closed   \n",
       "8   New York City Police Department  Noise - Street/Sidewalk  Closed   \n",
       "\n",
       "  Community Board    Borough   Latitude  Longitude  City Council Districts  \\\n",
       "4       06 QUEENS     QUEENS  40.734695 -73.850521                    28.0   \n",
       "5    07 MANHATTAN  MANHATTAN  40.777201 -73.976159                    19.0   \n",
       "6       07 QUEENS     QUEENS  40.759286 -73.822614                     3.0   \n",
       "7       06 QUEENS     QUEENS  40.729379 -73.855433                    28.0   \n",
       "8     12 BROOKLYN   BROOKLYN  40.644725 -73.997622                     7.0   \n",
       "\n",
       "  Complaint Category  \n",
       "4              Noise  \n",
       "5              Noise  \n",
       "6     Transportation  \n",
       "7              Noise  \n",
       "8              Noise  "
      ]
     },
     "execution_count": 11,
     "metadata": {},
     "output_type": "execute_result"
    }
   ],
   "source": [
    "requestdf.head(5)"
   ]
  },
  {
   "cell_type": "markdown",
   "metadata": {},
   "source": [
    "Lots of entries with missing closing date, below is a graph of the most commonly unclosed requests."
   ]
  },
  {
   "cell_type": "code",
   "execution_count": 12,
   "metadata": {},
   "outputs": [
    {
     "data": {
      "text/plain": [
       "Text(0.5, 1.0, 'Top 10 Unclosed Complaints')"
      ]
     },
     "execution_count": 12,
     "metadata": {},
     "output_type": "execute_result"
    },
    {
     "data": {
      "image/png": "[encoded data removed]",
      "text/plain": [
       "<Figure size 1600x500 with 1 Axes>"
      ]
     },
     "metadata": {},
     "output_type": "display_data"
    }
   ],
   "source": [
    "notclosed = requestdf.loc[requestdf[\"Closed Date\"].isna()]\n",
    "plt.figure(figsize=(16,5))\n",
    "sns.countplot(data=notclosed, x=\"Complaint Type\", order=notclosed[\"Complaint Type\"].value_counts().iloc[:10].index)\n",
    "plt.xticks(fontsize=7, rotation=0)\n",
    "plt.title(\"Top 10 Unclosed Complaints\")"
   ]
  },
  {
   "cell_type": "markdown",
   "metadata": {},
   "source": [
    "Requests like **Noise-Helicopter** may be unclosed due to either not needing or not having the ability to resolve them. Actionable requests like **New Tree Request** may be unclosed due to long wait times. These requests will still be included in overall count since they are requests despite not being closed, and will just not have a time to resolve when calculated."
   ]
  },
  {
   "cell_type": "code",
   "execution_count": 13,
   "metadata": {},
   "outputs": [],
   "source": [
    "#converts dates from str into datetime format\n",
    "requestdf[\"Created Date\"] = pd.to_datetime(requestdf[\"Created Date\"], format=\"%m/%d/%Y %I:%M:%S %p\")\n",
    "requestdf[\"Closed Date\"] = pd.to_datetime(requestdf[\"Closed Date\"], format=\"%m/%d/%Y %I:%M:%S %p\")"
   ]
  },
  {
   "cell_type": "code",
   "execution_count": 14,
   "metadata": {},
   "outputs": [],
   "source": [
    "#creates requesttime as timedelta of time from request open to close\n",
    "requestdf[\"Request Time\"] = requestdf[\"Closed Date\"] - requestdf[\"Created Date\"]\n",
    "#creates new columns of hours and minutes integers from timedelta\n",
    "requestdf[\"Request Hours\"] = requestdf[\"Request Time\"].dt.total_seconds() // 3600\n",
    "requestdf[\"Request Minutes\"] = (requestdf[\"Request Time\"].dt.total_seconds() % 3600) // 60\n",
    "#null values still exist, leave for now to not effect average"
   ]
  },
  {
   "cell_type": "code",
   "execution_count": 15,
   "metadata": {},
   "outputs": [
    {
     "data": {
      "text/html": [
       "<div>\n",
       "<style scoped>\n",
       "    .dataframe tbody tr th:only-of-type {\n",
       "        vertical-align: middle;\n",
       "    }\n",
       "\n",
       "    .dataframe tbody tr th {\n",
       "        vertical-align: top;\n",
       "    }\n",
       "\n",
       "    .dataframe thead th {\n",
       "        text-align: right;\n",
       "    }\n",
       "</style>\n",
       "<table border=\"1\" class=\"dataframe\">\n",
       "  <thead>\n",
       "    <tr style=\"text-align: right;\">\n",
       "      <th></th>\n",
       "      <th>Request Time</th>\n",
       "    </tr>\n",
       "    <tr>\n",
       "      <th>Complaint Type</th>\n",
       "      <th></th>\n",
       "    </tr>\n",
       "  </thead>\n",
       "  <tbody>\n",
       "    <tr>\n",
       "      <th>For Hire Vehicle Complaint</th>\n",
       "      <td>63 days 04:51:42.500000</td>\n",
       "    </tr>\n",
       "    <tr>\n",
       "      <th>Building/Use</th>\n",
       "      <td>42 days 09:55:27</td>\n",
       "    </tr>\n",
       "    <tr>\n",
       "      <th>Elevator</th>\n",
       "      <td>32 days 11:07:21.500000</td>\n",
       "    </tr>\n",
       "    <tr>\n",
       "      <th>Noise - Helicopter</th>\n",
       "      <td>28 days 13:37:24</td>\n",
       "    </tr>\n",
       "    <tr>\n",
       "      <th>Graffiti</th>\n",
       "      <td>18 days 07:59:55.500000</td>\n",
       "    </tr>\n",
       "  </tbody>\n",
       "</table>\n",
       "</div>"
      ],
      "text/plain": [
       "                                      Request Time\n",
       "Complaint Type                                    \n",
       "For Hire Vehicle Complaint 63 days 04:51:42.500000\n",
       "Building/Use                      42 days 09:55:27\n",
       "Elevator                   32 days 11:07:21.500000\n",
       "Noise - Helicopter                28 days 13:37:24\n",
       "Graffiti                   18 days 07:59:55.500000"
      ]
     },
     "execution_count": 15,
     "metadata": {},
     "output_type": "execute_result"
    }
   ],
   "source": [
    "#lists complaint types with the longest median(instead of mean due to outliers) times to close.\n",
    "requestdf[[\"Complaint Type\", \"Request Time\"]].groupby(by=\"Complaint Type\").median().sort_values(by=\"Request Time\", ascending=False).head(5)"
   ]
  },
  {
   "cell_type": "markdown",
   "metadata": {},
   "source": [
    "Some categories have extreme outliers, and may influence mean which is why median is used. If necessary, more data cleaning could be done using domain knowledge to remove accidentally unlosed complaints while keeping actual outliers."
   ]
  },
  {
   "cell_type": "code",
   "execution_count": 16,
   "metadata": {},
   "outputs": [
    {
     "data": {
      "text/plain": [
       "Complaint Type\n",
       "New Tree Request                 36\n",
       "Maintenance or Facility          30\n",
       "Street Light Condition           21\n",
       "General Construction/Plumbing    15\n",
       "Damaged Tree                     10\n",
       "Traffic Signal Condition          7\n",
       "Overgrown Tree/Branches           5\n",
       "Building/Use                      4\n",
       "Sewer                             3\n",
       "Graffiti                          3\n",
       "Illegal Dumping                   2\n",
       "Unsanitary Condition              2\n",
       "General                           1\n",
       "Water Leak                        1\n",
       "Flooring/Stairs                   1\n",
       "Door/Window                       1\n",
       "Appliance                         1\n",
       "Name: count, dtype: int64"
      ]
     },
     "execution_count": 16,
     "metadata": {},
     "output_type": "execute_result"
    }
   ],
   "source": [
    "requestdf.loc[requestdf[\"Request Hours\"] > 10000][\"Complaint Type\"].value_counts()"
   ]
  },
  {
   "cell_type": "code",
   "execution_count": 17,
   "metadata": {},
   "outputs": [
    {
     "data": {
      "text/plain": [
       "Text(0.5, 1.0, '# of Common Complaints Resolved Under 10 Minutes, by Type')"
      ]
     },
     "execution_count": 17,
     "metadata": {},
     "output_type": "execute_result"
    },
    {
     "data": {
      "image/png": "[encoded data removed]",
      "text/plain": [
       "<Figure size 1600x500 with 1 Axes>"
      ]
     },
     "metadata": {},
     "output_type": "display_data"
    }
   ],
   "source": [
    "quickresolve = requestdf.loc[(requestdf[\"Request Hours\"] == 0) & (requestdf[\"Request Minutes\"] < 10)]\n",
    "plt.figure(figsize=(16,5))\n",
    "sns.countplot(data=quickresolve, x=\"Complaint Type\", order=quickresolve[\"Complaint Type\"].value_counts().iloc[:10].index)\n",
    "plt.xticks(fontsize=7, rotation=0)\n",
    "plt.title(\"# of Common Complaints Resolved Under 10 Minutes, by Type\")"
   ]
  },
  {
   "cell_type": "markdown",
   "metadata": {},
   "source": [
    "adding column for joining community districts with spatial data for community district tabulation areas (not exact community districts due to difficulty joining with spatial data for community districts from 2010 which may require manual conversion of each community board to #'s)."
   ]
  },
  {
   "cell_type": "markdown",
   "metadata": {},
   "source": [
    "format for community district in spatial data is<br/> column name: Cdta2020<br/>row format ex: BK01 for Brooklyn 01 District"
   ]
  },
  {
   "cell_type": "code",
   "execution_count": 18,
   "metadata": {},
   "outputs": [],
   "source": [
    "#creates dictionary to map Borough and Abbreviation, then creates new column combining abbreviation and first 2 idx of Community board, resulting in something like BK01\n",
    "BoroughABBR = {\"QUEENS\":\"QN\", \"MANHATTAN\":\"MN\", \"BROOKLYN\":\"BK\", \"BRONX\":\"BX\", \"STATEN ISLAND\":\"SI\"}\n",
    "requestdf[\"Cdta2020\"] = (requestdf[\"Borough\"].map(BoroughABBR) + requestdf[\"Community Board\"].str[:2])"
   ]
  },
  {
   "cell_type": "code",
   "execution_count": 19,
   "metadata": {},
   "outputs": [
    {
     "name": "stdout",
     "output_type": "stream",
     "text": [
      "71 unique boards, lining up with the CDTA # of districts (which includes Joint Interest Areas like JFK Airport)\n"
     ]
    }
   ],
   "source": [
    "print(requestdf[\"Community Board\"].unique().shape[0], \"unique boards, lining up with the CDTA # of districts (which includes Joint Interest Areas like JFK Airport)\")"
   ]
  },
  {
   "cell_type": "code",
   "execution_count": 20,
   "metadata": {},
   "outputs": [
    {
     "data": {
      "text/plain": [
       "4       06 QUEENS\n",
       "5    07 MANHATTAN\n",
       "6       07 QUEENS\n",
       "7       06 QUEENS\n",
       "8     12 BROOKLYN\n",
       "Name: Community Board, dtype: object"
      ]
     },
     "execution_count": 20,
     "metadata": {},
     "output_type": "execute_result"
    }
   ],
   "source": [
    "requestdf.head(5)[\"Community Board\"]"
   ]
  },
  {
   "cell_type": "markdown",
   "metadata": {},
   "source": [
    "commented out saving dataframe as csv to avoid repeat saving"
   ]
  },
  {
   "cell_type": "code",
   "execution_count": 21,
   "metadata": {},
   "outputs": [],
   "source": [
    "requestdf.to_csv(\"../organizedrequests.csv\")"
   ]
  }
 ],
 "metadata": {
  "kernelspec": {
   "display_name": "base",
   "language": "python",
   "name": "python3"
  },
  "language_info": {
   "codemirror_mode": {
    "name": "ipython",
    "version": 3
   },
   "file_extension": ".py",
   "mimetype": "text/x-python",
   "name": "python",
   "nbconvert_exporter": "python",
   "pygments_lexer": "ipython3",
   "version": "3.11.5"
  }
 },
 "nbformat": 4,
 "nbformat_minor": 2
}
